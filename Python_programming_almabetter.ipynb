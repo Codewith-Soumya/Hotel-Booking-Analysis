{
  "nbformat": 4,
  "nbformat_minor": 0,
  "metadata": {
    "colab": {
      "provenance": [],
      "authorship_tag": "ABX9TyPCDdqnMW2E4EL4GZI0LoXp",
      "include_colab_link": true
    },
    "kernelspec": {
      "name": "python3",
      "display_name": "Python 3"
    },
    "language_info": {
      "name": "python"
    }
  },
  "cells": [
    {
      "cell_type": "markdown",
      "metadata": {
        "id": "view-in-github",
        "colab_type": "text"
      },
      "source": [
        "<a href=\"https://colab.research.google.com/github/Codewith-Soumya/Hotel-Booking-Analysis/blob/main/Python_programming_almabetter.ipynb\" target=\"_parent\"><img src=\"https://colab.research.google.com/assets/colab-badge.svg\" alt=\"Open In Colab\"/></a>"
      ]
    },
    {
      "cell_type": "code",
      "execution_count": null,
      "metadata": {
        "colab": {
          "base_uri": "https://localhost:8080/"
        },
        "id": "TnCBumzecO5-",
        "outputId": "b638411b-0653-468c-ee28-eec476110ed3"
      },
      "outputs": [
        {
          "output_type": "stream",
          "name": "stdout",
          "text": [
            "hello world\n"
          ]
        }
      ],
      "source": [
        "print (\"hello world\")"
      ]
    },
    {
      "cell_type": "code",
      "source": [
        "3+4 #Addition"
      ],
      "metadata": {
        "colab": {
          "base_uri": "https://localhost:8080/"
        },
        "id": "BmysVkStccvO",
        "outputId": "d04956fd-51f7-475d-e3fb-adfe001810bd"
      },
      "execution_count": null,
      "outputs": [
        {
          "output_type": "execute_result",
          "data": {
            "text/plain": [
              "7"
            ]
          },
          "metadata": {},
          "execution_count": 2
        }
      ]
    },
    {
      "cell_type": "code",
      "source": [
        "6-90 #Substraction"
      ],
      "metadata": {
        "colab": {
          "base_uri": "https://localhost:8080/"
        },
        "id": "6JMFDTtxch4b",
        "outputId": "1342148e-7cd4-4cf1-8986-f176b4b6f40d"
      },
      "execution_count": null,
      "outputs": [
        {
          "output_type": "execute_result",
          "data": {
            "text/plain": [
              "-84"
            ]
          },
          "metadata": {},
          "execution_count": 3
        }
      ]
    },
    {
      "cell_type": "code",
      "source": [
        "7*9 #Multiplication"
      ],
      "metadata": {
        "colab": {
          "base_uri": "https://localhost:8080/"
        },
        "id": "B8Y7udj0ckC4",
        "outputId": "e55a2f8d-b4fe-4709-e9ee-5bc106942f39"
      },
      "execution_count": null,
      "outputs": [
        {
          "output_type": "execute_result",
          "data": {
            "text/plain": [
              "63"
            ]
          },
          "metadata": {},
          "execution_count": 4
        }
      ]
    },
    {
      "cell_type": "code",
      "source": [
        "6/8"
      ],
      "metadata": {
        "colab": {
          "base_uri": "https://localhost:8080/"
        },
        "id": "0K02aUBKcptJ",
        "outputId": "31b644ed-322f-4237-f0d7-4a36c8440f1e"
      },
      "execution_count": null,
      "outputs": [
        {
          "output_type": "execute_result",
          "data": {
            "text/plain": [
              "0.75"
            ]
          },
          "metadata": {},
          "execution_count": 5
        }
      ]
    },
    {
      "cell_type": "code",
      "source": [
        "london_points=(6*3)+(1*1)+(2*0)\n",
        "print(london_points)"
      ],
      "metadata": {
        "colab": {
          "base_uri": "https://localhost:8080/"
        },
        "id": "kZBzrP54cvVt",
        "outputId": "db01b37c-5052-498d-caa3-c7232e736f9b"
      },
      "execution_count": null,
      "outputs": [
        {
          "output_type": "stream",
          "name": "stdout",
          "text": [
            "19\n"
          ]
        }
      ]
    },
    {
      "cell_type": "code",
      "source": [
        "# in python we can store the value in any variable\n",
        "x=8\n",
        "print(x)"
      ],
      "metadata": {
        "colab": {
          "base_uri": "https://localhost:8080/"
        },
        "id": "-x5t6n2Ec6ou",
        "outputId": "309c36ca-3691-4b4f-81c3-ef0a1ad21f2e"
      },
      "execution_count": null,
      "outputs": [
        {
          "output_type": "stream",
          "name": "stdout",
          "text": [
            "8\n"
          ]
        }
      ]
    },
    {
      "cell_type": "code",
      "source": [
        "y=9\n",
        "print(y)"
      ],
      "metadata": {
        "colab": {
          "base_uri": "https://localhost:8080/"
        },
        "id": "_2gzze1YdAW0",
        "outputId": "f76feaf1-1fdd-41ec-bed6-f1563095da6b"
      },
      "execution_count": null,
      "outputs": [
        {
          "output_type": "stream",
          "name": "stdout",
          "text": [
            "9\n"
          ]
        }
      ]
    },
    {
      "cell_type": "code",
      "source": [
        "z=x+y\n",
        "print(z)"
      ],
      "metadata": {
        "colab": {
          "base_uri": "https://localhost:8080/"
        },
        "id": "lmdmh16vdIVN",
        "outputId": "4ddfc1f2-499c-4b0a-fe88-19a2ac10ebd7"
      },
      "execution_count": null,
      "outputs": [
        {
          "output_type": "stream",
          "name": "stdout",
          "text": [
            "17\n"
          ]
        }
      ]
    },
    {
      "cell_type": "code",
      "source": [
        "z=x-y\n",
        "print(z)"
      ],
      "metadata": {
        "colab": {
          "base_uri": "https://localhost:8080/"
        },
        "id": "gpDBgD-gdM8M",
        "outputId": "134c6030-fd86-46bc-9398-620624e6e839"
      },
      "execution_count": null,
      "outputs": [
        {
          "output_type": "stream",
          "name": "stdout",
          "text": [
            "-1\n"
          ]
        }
      ]
    },
    {
      "cell_type": "code",
      "source": [
        "z=x*y\n",
        "print(z)"
      ],
      "metadata": {
        "colab": {
          "base_uri": "https://localhost:8080/"
        },
        "id": "jld_iYAhdRTa",
        "outputId": "118c11a1-9da2-42f3-d7f5-9ca428d8ee37"
      },
      "execution_count": null,
      "outputs": [
        {
          "output_type": "stream",
          "name": "stdout",
          "text": [
            "72\n"
          ]
        }
      ]
    },
    {
      "cell_type": "code",
      "source": [
        "type(z)"
      ],
      "metadata": {
        "colab": {
          "base_uri": "https://localhost:8080/"
        },
        "id": "4ZqM0CLwdR7u",
        "outputId": "65e56b89-742b-481f-a9b5-7e857ed1887e"
      },
      "execution_count": null,
      "outputs": [
        {
          "output_type": "execute_result",
          "data": {
            "text/plain": [
              "int"
            ]
          },
          "metadata": {},
          "execution_count": 12
        }
      ]
    },
    {
      "cell_type": "code",
      "source": [
        "z=x/y\n",
        "print(z)"
      ],
      "metadata": {
        "colab": {
          "base_uri": "https://localhost:8080/"
        },
        "id": "wsxZbTa-da0O",
        "outputId": "9945b4db-b2ec-40a2-d181-6b3e1646bc0f"
      },
      "execution_count": null,
      "outputs": [
        {
          "output_type": "stream",
          "name": "stdout",
          "text": [
            "0.8888888888888888\n"
          ]
        }
      ]
    },
    {
      "cell_type": "code",
      "source": [
        "type(z)"
      ],
      "metadata": {
        "colab": {
          "base_uri": "https://localhost:8080/"
        },
        "id": "5Vw5_IHCdgq2",
        "outputId": "d0724ea3-e626-4794-915d-030f56479d6a"
      },
      "execution_count": null,
      "outputs": [
        {
          "output_type": "execute_result",
          "data": {
            "text/plain": [
              "float"
            ]
          },
          "metadata": {},
          "execution_count": 14
        }
      ]
    },
    {
      "cell_type": "code",
      "source": [
        "wins=3\n",
        "loss=2\n",
        "draw=1\n",
        "\n",
        "total_wins=6\n",
        "total_loss=0\n",
        "total_draw=1\n",
        "\n",
        "london_points=(total_wins*wins)+(total_loss*loss)+(total_draw*draw)\n",
        "print(london_points)"
      ],
      "metadata": {
        "colab": {
          "base_uri": "https://localhost:8080/"
        },
        "id": "WwmU5weodldt",
        "outputId": "33d695c4-67af-4730-8820-cb6b1f3f6df8"
      },
      "execution_count": null,
      "outputs": [
        {
          "output_type": "stream",
          "name": "stdout",
          "text": [
            "19\n"
          ]
        }
      ]
    },
    {
      "cell_type": "code",
      "source": [
        "raisins=50\n",
        "almonds=60\n",
        "apricots=20\n",
        "\n",
        "R=(raisins/(raisins+almonds+apricots))*100\n",
        "print(R)\n",
        "A=(almonds/(almonds+raisins+apricots))*100\n",
        "print(A)\n",
        "Ap=(apricots/(apricots+almonds+raisins))*100\n",
        "print(Ap)"
      ],
      "metadata": {
        "colab": {
          "base_uri": "https://localhost:8080/"
        },
        "id": "totp0KOadrnO",
        "outputId": "1f607c42-7457-4349-cfd5-8c03101fb938"
      },
      "execution_count": null,
      "outputs": [
        {
          "output_type": "stream",
          "name": "stdout",
          "text": [
            "38.46153846153847\n",
            "46.15384615384615\n",
            "15.384615384615385\n"
          ]
        }
      ]
    },
    {
      "cell_type": "code",
      "source": [
        "boolean=True\n",
        "type(boolean)"
      ],
      "metadata": {
        "colab": {
          "base_uri": "https://localhost:8080/"
        },
        "id": "NE-rfgGqd3aC",
        "outputId": "d8c59ac1-c6b9-4859-daec-0876778e7a07"
      },
      "execution_count": null,
      "outputs": [
        {
          "output_type": "execute_result",
          "data": {
            "text/plain": [
              "bool"
            ]
          },
          "metadata": {},
          "execution_count": 17
        }
      ]
    },
    {
      "cell_type": "code",
      "source": [
        "2==3"
      ],
      "metadata": {
        "colab": {
          "base_uri": "https://localhost:8080/"
        },
        "id": "jlRTjD_Ad8xv",
        "outputId": "91fee5c5-294c-4b9d-d0ec-99b085c5728a"
      },
      "execution_count": null,
      "outputs": [
        {
          "output_type": "execute_result",
          "data": {
            "text/plain": [
              "False"
            ]
          },
          "metadata": {},
          "execution_count": 18
        }
      ]
    },
    {
      "cell_type": "code",
      "source": [
        "2==0"
      ],
      "metadata": {
        "colab": {
          "base_uri": "https://localhost:8080/"
        },
        "id": "PKIo2nYFeGDi",
        "outputId": "104d953b-f28f-48a4-cca0-ebec73acf9e1"
      },
      "execution_count": null,
      "outputs": [
        {
          "output_type": "execute_result",
          "data": {
            "text/plain": [
              "False"
            ]
          },
          "metadata": {},
          "execution_count": 19
        }
      ]
    },
    {
      "cell_type": "code",
      "source": [
        "6<=7"
      ],
      "metadata": {
        "colab": {
          "base_uri": "https://localhost:8080/"
        },
        "id": "srVqNpOeeICq",
        "outputId": "f1a2af5d-88eb-4755-d892-b1f9cbc53bd0"
      },
      "execution_count": null,
      "outputs": [
        {
          "output_type": "execute_result",
          "data": {
            "text/plain": [
              "True"
            ]
          },
          "metadata": {},
          "execution_count": 20
        }
      ]
    },
    {
      "cell_type": "code",
      "source": [
        "8>=6"
      ],
      "metadata": {
        "colab": {
          "base_uri": "https://localhost:8080/"
        },
        "id": "WPLNB42deK4D",
        "outputId": "46036d16-9380-4c29-b633-7773a9df26fa"
      },
      "execution_count": null,
      "outputs": [
        {
          "output_type": "execute_result",
          "data": {
            "text/plain": [
              "True"
            ]
          },
          "metadata": {},
          "execution_count": 21
        }
      ]
    },
    {
      "cell_type": "code",
      "source": [
        "a=2\n",
        "b=a**2\n",
        "print(b)"
      ],
      "metadata": {
        "colab": {
          "base_uri": "https://localhost:8080/"
        },
        "id": "lK9Zt-EkedS9",
        "outputId": "9c5fe427-b70e-4e92-aba3-9f7e67fd6470"
      },
      "execution_count": null,
      "outputs": [
        {
          "output_type": "stream",
          "name": "stdout",
          "text": [
            "4\n"
          ]
        }
      ]
    },
    {
      "cell_type": "code",
      "source": [
        "height=int(input(\"Enter the height:\"))\n",
        "weight=int(input(\"Enter the height:\"))\n",
        "bmi=weight/(height**2)\n",
        "print(bmi)"
      ],
      "metadata": {
        "colab": {
          "base_uri": "https://localhost:8080/"
        },
        "id": "YFkBqDF5ehqX",
        "outputId": "21ce87b7-3a2f-412b-d2b1-dfc9f43eee35"
      },
      "execution_count": null,
      "outputs": [
        {
          "output_type": "stream",
          "name": "stdout",
          "text": [
            "Enter the height:6\n",
            "Enter the height:65\n",
            "1.8055555555555556\n"
          ]
        }
      ]
    },
    {
      "cell_type": "code",
      "source": [
        "x = int(input(\"Enter the value of x:\"))\n",
        "y = int(input(\"Enter the value of y:\"))\n",
        "z=(x+y)*(x+y)\n",
        "print(z)"
      ],
      "metadata": {
        "colab": {
          "base_uri": "https://localhost:8080/"
        },
        "id": "xz3F9wfMeqDj",
        "outputId": "f90c855c-f304-49dd-b957-73f264928007"
      },
      "execution_count": null,
      "outputs": [
        {
          "output_type": "stream",
          "name": "stdout",
          "text": [
            "Enter the value of x:67\n",
            "Enter the value of y:89\n",
            "24336\n"
          ]
        }
      ]
    },
    {
      "cell_type": "code",
      "source": [],
      "metadata": {
        "id": "SBe_cy42_YFO"
      },
      "execution_count": null,
      "outputs": []
    },
    {
      "cell_type": "code",
      "source": [
        "from joblib import Memory # create a Memory object to cache function calls mem = Memory(location='cache') # define a function to calculate the mean of a list of numbers @mem.cache def calc_mean(numbers): print(\"Calculating mean...\") total = sum(numbers) return total / len(numbers) # define a list of numbers to use for testing my_list = [1, 2, 3, 4, 5] # call the function the first time, which will calculate the mean and cache the result result1 = calc_mean(my_list) # call the function again with the same argument, which will retrieve the cached result instead of recalculating it result2 = calc_mean(my_list) # print the results print(result1) # should be 3.0 print(result2) # should also be 3.0, and the \"Calculating mean...\" message should not be printed"
      ],
      "metadata": {
        "id": "-UtIVjr-R7Vt"
      },
      "execution_count": null,
      "outputs": []
    },
    {
      "cell_type": "code",
      "source": [],
      "metadata": {
        "id": "G4ypNzwEBuQR"
      },
      "execution_count": null,
      "outputs": []
    },
    {
      "cell_type": "code",
      "source": [
        "s='Avengers end game'\n",
        "for i in s:\n",
        "  if i=={'a','e','i','o','u'}:\n",
        "   print(\"vowel\")\n",
        "  else:\n",
        "   print(\"consonant\")"
      ],
      "metadata": {
        "colab": {
          "base_uri": "https://localhost:8080/"
        },
        "id": "j8freobKPQ1S",
        "outputId": "8287303b-5a03-405b-be81-7514afb69892"
      },
      "execution_count": null,
      "outputs": [
        {
          "output_type": "stream",
          "name": "stdout",
          "text": [
            "consonant\n",
            "consonant\n",
            "consonant\n",
            "consonant\n",
            "consonant\n",
            "consonant\n",
            "consonant\n",
            "consonant\n",
            "consonant\n",
            "consonant\n",
            "consonant\n",
            "consonant\n",
            "consonant\n",
            "consonant\n",
            "consonant\n",
            "consonant\n",
            "consonant\n"
          ]
        }
      ]
    },
    {
      "cell_type": "markdown",
      "source": [
        "Data types in Python\n",
        "Let us consider the quadratic function of Algebra.\n",
        "f(x)=x^2+3x-4\n",
        "Take the value x=2, x=-1, x=1."
      ],
      "metadata": {
        "id": "X9ow66-3CyWd"
      }
    },
    {
      "cell_type": "code",
      "source": [
        "x=2\n",
        "quadratic_function=(x**2)+(3*x)-4\n",
        "print(quadratic_function)"
      ],
      "metadata": {
        "colab": {
          "base_uri": "https://localhost:8080/"
        },
        "id": "REwW15AGDF_U",
        "outputId": "ca3c23ee-e877-41d2-d08f-344fd31cd3cf"
      },
      "execution_count": null,
      "outputs": [
        {
          "output_type": "stream",
          "name": "stdout",
          "text": [
            "6\n"
          ]
        }
      ]
    },
    {
      "cell_type": "code",
      "source": [
        "x=-1\n",
        "quadratic_function_minus1=(x**2)+(3*x)-4\n",
        "print(quadratic_function_minus1)"
      ],
      "metadata": {
        "colab": {
          "base_uri": "https://localhost:8080/"
        },
        "id": "A2oqSxvxDiC9",
        "outputId": "ec924728-3c26-4de6-d6af-9c53e059ac8f"
      },
      "execution_count": null,
      "outputs": [
        {
          "output_type": "stream",
          "name": "stdout",
          "text": [
            "-6\n"
          ]
        }
      ]
    },
    {
      "cell_type": "code",
      "source": [
        "x=1\n",
        "quadratic_function_1=(x**2)+(3*x)-4\n",
        "print(quadratic_function_1)"
      ],
      "metadata": {
        "colab": {
          "base_uri": "https://localhost:8080/"
        },
        "id": "JS9VfNXFD4mz",
        "outputId": "8f0bbe04-b703-4418-b8e1-805f3b61ea64"
      },
      "execution_count": null,
      "outputs": [
        {
          "output_type": "stream",
          "name": "stdout",
          "text": [
            "0\n"
          ]
        }
      ]
    },
    {
      "cell_type": "code",
      "source": [
        "quadratic_function_1>=quadratic_function_minus1"
      ],
      "metadata": {
        "colab": {
          "base_uri": "https://localhost:8080/"
        },
        "id": "f3Hza3XmF1w4",
        "outputId": "d92e484e-af80-4d1c-ddd6-24f84a8ea7bf"
      },
      "execution_count": null,
      "outputs": [
        {
          "output_type": "execute_result",
          "data": {
            "text/plain": [
              "True"
            ]
          },
          "metadata": {},
          "execution_count": 5
        }
      ]
    },
    {
      "cell_type": "code",
      "source": [
        "print(quadratic_function==0)\n",
        "print(quadratic_function_minus1==0)\n",
        "print(quadratic_function_1==0)"
      ],
      "metadata": {
        "colab": {
          "base_uri": "https://localhost:8080/"
        },
        "id": "MGERcUZiGDhj",
        "outputId": "c8ad1a58-a374-402b-c921-ddf037a79dd2"
      },
      "execution_count": null,
      "outputs": [
        {
          "output_type": "stream",
          "name": "stdout",
          "text": [
            "False\n",
            "False\n",
            "True\n"
          ]
        }
      ]
    },
    {
      "cell_type": "markdown",
      "source": [
        "Creating a string"
      ],
      "metadata": {
        "id": "0EO22rBuIPnt"
      }
    },
    {
      "cell_type": "code",
      "source": [
        "# Creating a string\n",
        "my_first_string=\"Hello world!\"\n",
        "print(my_first_string)"
      ],
      "metadata": {
        "colab": {
          "base_uri": "https://localhost:8080/"
        },
        "id": "rVnyjTXYIS2z",
        "outputId": "84d9e224-7c81-44f4-bde5-ba57f3ea00e4"
      },
      "execution_count": null,
      "outputs": [
        {
          "output_type": "stream",
          "name": "stdout",
          "text": [
            "Hello world!\n"
          ]
        }
      ]
    },
    {
      "cell_type": "code",
      "source": [
        "# Entire phrase\n",
        "Phrase=\"I am a good boy\"\n",
        "print(Phrase)"
      ],
      "metadata": {
        "colab": {
          "base_uri": "https://localhost:8080/"
        },
        "id": "5jNEv4ElOGke",
        "outputId": "f8f4697d-39c2-4dde-fbd3-5cf28e822c1a"
      },
      "execution_count": null,
      "outputs": [
        {
          "output_type": "stream",
          "name": "stdout",
          "text": [
            "I am a good boy\n"
          ]
        }
      ]
    },
    {
      "cell_type": "code",
      "source": [
        "type(Phrase)"
      ],
      "metadata": {
        "colab": {
          "base_uri": "https://localhost:8080/"
        },
        "id": "LX3OSg3_OQIS",
        "outputId": "8851325d-2538-4821-8ca9-205e6f64db68"
      },
      "execution_count": null,
      "outputs": [
        {
          "output_type": "execute_result",
          "data": {
            "text/plain": [
              "str"
            ]
          },
          "metadata": {},
          "execution_count": 10
        }
      ]
    },
    {
      "cell_type": "code",
      "source": [
        "# we can also use single quote\n",
        "String=(\"Sammy is a good rider\")\n",
        "print(String)"
      ],
      "metadata": {
        "colab": {
          "base_uri": "https://localhost:8080/"
        },
        "id": "Z-rvMXklOVDw",
        "outputId": "0ccda9cd-ed87-4e76-9f11-7eb630101cff"
      },
      "execution_count": null,
      "outputs": [
        {
          "output_type": "stream",
          "name": "stdout",
          "text": [
            "Sammy is a good rider\n"
          ]
        }
      ]
    },
    {
      "cell_type": "markdown",
      "source": [
        "Some basic string operation: Len(length)"
      ],
      "metadata": {
        "id": "TuxK1irnPVQl"
      }
    },
    {
      "cell_type": "code",
      "source": [
        "datascience=(\"Almabetter\") #the len function provides the length of the string and the length starts the count from 1\n",
        "len(datascience)"
      ],
      "metadata": {
        "colab": {
          "base_uri": "https://localhost:8080/"
        },
        "id": "FNC6JG-oPb5t",
        "outputId": "cf69bbc2-9a40-46cf-a80c-946c5165bb6d"
      },
      "execution_count": null,
      "outputs": [
        {
          "output_type": "execute_result",
          "data": {
            "text/plain": [
              "10"
            ]
          },
          "metadata": {},
          "execution_count": 14
        }
      ]
    },
    {
      "cell_type": "markdown",
      "source": [
        "Count"
      ],
      "metadata": {
        "id": "Htu2ZqtXQwFD"
      }
    },
    {
      "cell_type": "code",
      "source": [
        "datascience=(\"Almabetter\") #this provides the count of the string within a given string\n",
        "datascience.count(\"Al\")"
      ],
      "metadata": {
        "colab": {
          "base_uri": "https://localhost:8080/"
        },
        "id": "hRffAzowQxYZ",
        "outputId": "54c34dc6-adf9-4f14-e238-d3bbf3341695"
      },
      "execution_count": null,
      "outputs": [
        {
          "output_type": "execute_result",
          "data": {
            "text/plain": [
              "1"
            ]
          },
          "metadata": {},
          "execution_count": 17
        }
      ]
    },
    {
      "cell_type": "code",
      "source": [
        "books=(\"Bookshelves\")\n",
        "books.count(\"e\")"
      ],
      "metadata": {
        "colab": {
          "base_uri": "https://localhost:8080/"
        },
        "id": "deCshwCCRa4q",
        "outputId": "fbd13b81-eea1-487e-ea38-3f423bff8f29"
      },
      "execution_count": null,
      "outputs": [
        {
          "output_type": "execute_result",
          "data": {
            "text/plain": [
              "2"
            ]
          },
          "metadata": {},
          "execution_count": 18
        }
      ]
    },
    {
      "cell_type": "code",
      "source": [
        "Python=(\"Highlights of Python, Advanced Python, Python for begineers, Introduction to Python, Python Mains\")\n",
        "a_count=Python.count(\"a\") #there is a wrong description for this result as there are more than 2 'a's in the string"
      ],
      "metadata": {
        "colab": {
          "base_uri": "https://localhost:8080/"
        },
        "id": "HIx1VW27bSY5",
        "outputId": "9bf52460-bbb7-4fcb-c212-247cca472ba2"
      },
      "execution_count": null,
      "outputs": [
        {
          "output_type": "execute_result",
          "data": {
            "text/plain": [
              "2"
            ]
          },
          "metadata": {},
          "execution_count": 3
        }
      ]
    },
    {
      "cell_type": "code",
      "source": [
        "#the correct code is provided here.\n",
        "a_count=Python.lower().count(\"a\")\n",
        "print(f\"the total number of a in the string is{a_count}\")"
      ],
      "metadata": {
        "colab": {
          "base_uri": "https://localhost:8080/"
        },
        "id": "la0_3EfbcKkQ",
        "outputId": "2de6b33d-648c-4673-9674-0d5beb26b055"
      },
      "execution_count": null,
      "outputs": [
        {
          "output_type": "stream",
          "name": "stdout",
          "text": [
            "the total number of a in the string is3\n"
          ]
        }
      ]
    },
    {
      "cell_type": "markdown",
      "source": [
        "Activty 1 (Converting string to integer)"
      ],
      "metadata": {
        "id": "2DgJWJP4CcaT"
      }
    },
    {
      "cell_type": "code",
      "source": [
        "num_str=\"25\"\n",
        "num_int=int(num_str)\n",
        "print(num_int)"
      ],
      "metadata": {
        "colab": {
          "base_uri": "https://localhost:8080/"
        },
        "id": "jP9kD4YbCG3V",
        "outputId": "18b646b1-14fb-4d89-ac70-4fe3c06fb741"
      },
      "execution_count": null,
      "outputs": [
        {
          "output_type": "stream",
          "name": "stdout",
          "text": [
            "25\n"
          ]
        }
      ]
    },
    {
      "cell_type": "code",
      "source": [
        "string=\"Python123\"\n",
        "result=string[-3:]\n",
        "print(result)"
      ],
      "metadata": {
        "colab": {
          "base_uri": "https://localhost:8080/"
        },
        "id": "J1PObPziCvnC",
        "outputId": "7a0082b9-77d0-4d0e-e4de-6b150b58ec47"
      },
      "execution_count": null,
      "outputs": [
        {
          "output_type": "stream",
          "name": "stdout",
          "text": [
            "123\n"
          ]
        }
      ]
    },
    {
      "cell_type": "markdown",
      "source": [
        "Lists"
      ],
      "metadata": {
        "id": "BM0D_4ovHzBf"
      }
    },
    {
      "cell_type": "code",
      "source": [
        "#Assigning a list to the variable\n",
        "my_list=[1,2,3,4]\n",
        "print(my_list)"
      ],
      "metadata": {
        "colab": {
          "base_uri": "https://localhost:8080/"
        },
        "id": "WSE7ximRH0x0",
        "outputId": "3133b2e9-3949-4f65-8356-1bd52eaac984"
      },
      "execution_count": null,
      "outputs": [
        {
          "output_type": "stream",
          "name": "stdout",
          "text": [
            "[1, 2, 3, 4]\n"
          ]
        }
      ]
    },
    {
      "cell_type": "code",
      "source": [
        "type(my_list)"
      ],
      "metadata": {
        "colab": {
          "base_uri": "https://localhost:8080/"
        },
        "id": "InfOauIoIEja",
        "outputId": "2752f894-de1e-4f05-afe3-834abc492261"
      },
      "execution_count": null,
      "outputs": [
        {
          "output_type": "execute_result",
          "data": {
            "text/plain": [
              "list"
            ]
          },
          "metadata": {},
          "execution_count": 6
        }
      ]
    },
    {
      "cell_type": "markdown",
      "source": [
        "We can create list with different datatypes"
      ],
      "metadata": {
        "id": "ei9Z2Z3IIxux"
      }
    },
    {
      "cell_type": "code",
      "source": [
        "my_list=['python is an advanced language',23,45.90,False]\n",
        "print(my_list)"
      ],
      "metadata": {
        "colab": {
          "base_uri": "https://localhost:8080/"
        },
        "id": "5e1gkD2NI5rZ",
        "outputId": "41eeb31e-21ff-4299-a8c1-89e9d438ce6a"
      },
      "execution_count": null,
      "outputs": [
        {
          "output_type": "stream",
          "name": "stdout",
          "text": [
            "['python is an advanced language', 23, 45.9, False]\n"
          ]
        }
      ]
    },
    {
      "cell_type": "markdown",
      "source": [
        "Mutability of lists:\n",
        "Lists are mutable, that is, we can change the list in the program."
      ],
      "metadata": {
        "id": "dxHwYd_5J7gl"
      }
    },
    {
      "cell_type": "code",
      "source": [
        "#list mutation\n",
        "my_list=[1,2,3,4,5]\n",
        "#modifying the list\n",
        "my_list[0]=10\n",
        "print(my_list)"
      ],
      "metadata": {
        "colab": {
          "base_uri": "https://localhost:8080/"
        },
        "id": "78-QjE72K9Xv",
        "outputId": "7a30b98c-2531-4aaa-9958-aa5a5fbff52b"
      },
      "execution_count": null,
      "outputs": [
        {
          "output_type": "stream",
          "name": "stdout",
          "text": [
            "[10, 2, 3, 4, 5]\n"
          ]
        }
      ]
    },
    {
      "cell_type": "markdown",
      "source": [
        "Some basic list function:"
      ],
      "metadata": {
        "id": "hJXsZY78LxXK"
      }
    },
    {
      "cell_type": "markdown",
      "source": [
        "len(), this returns the length of the string."
      ],
      "metadata": {
        "id": "DhoqYpGyL0PV"
      }
    },
    {
      "cell_type": "code",
      "source": [
        "my_list=[3,5,7,6,8,9,3,2,5,6,7,89,789,567889977]\n",
        "len(my_list)"
      ],
      "metadata": {
        "colab": {
          "base_uri": "https://localhost:8080/"
        },
        "id": "Z16LrpPCL13x",
        "outputId": "349aab14-3f7d-4e13-d1db-080af034880b"
      },
      "execution_count": null,
      "outputs": [
        {
          "output_type": "execute_result",
          "data": {
            "text/plain": [
              "14"
            ]
          },
          "metadata": {},
          "execution_count": 9
        }
      ]
    },
    {
      "cell_type": "markdown",
      "source": [
        "sum(), this returns the sum of the elements of the list"
      ],
      "metadata": {
        "id": "yYOMb7lXMU1I"
      }
    },
    {
      "cell_type": "code",
      "source": [
        "my_list=[8,5,6,7,3,2,1,4,5,6]\n",
        "sum(my_list)\n"
      ],
      "metadata": {
        "colab": {
          "base_uri": "https://localhost:8080/"
        },
        "id": "40c-2uFBMZYS",
        "outputId": "03c15350-395b-44fe-969e-40b0d191468a"
      },
      "execution_count": null,
      "outputs": [
        {
          "output_type": "execute_result",
          "data": {
            "text/plain": [
              "47"
            ]
          },
          "metadata": {},
          "execution_count": 11
        }
      ]
    },
    {
      "cell_type": "markdown",
      "source": [
        "So we have marks of the students.\n",
        "56,78,90,100,34,67,23,67,89,90,95.\n",
        "Calculate the mean of the marks"
      ],
      "metadata": {
        "id": "3_Lj1xiTOMrW"
      }
    },
    {
      "cell_type": "code",
      "source": [
        "student_marks=[56,78,90,100,34,67,23,67,89,90,95]\n",
        "sum(student_marks)\n",
        "len(student_marks)\n",
        "mean_marks=sum(student_marks)/len(student_marks)\n",
        "print(mean_marks)"
      ],
      "metadata": {
        "colab": {
          "base_uri": "https://localhost:8080/"
        },
        "id": "ifWlc879Ol23",
        "outputId": "70089133-21d1-413a-a616-37ba74867327"
      },
      "execution_count": null,
      "outputs": [
        {
          "output_type": "stream",
          "name": "stdout",
          "text": [
            "71.72727272727273\n"
          ]
        }
      ]
    },
    {
      "cell_type": "markdown",
      "source": [
        "Tuples"
      ],
      "metadata": {
        "id": "g2evPsNvRmO2"
      }
    },
    {
      "cell_type": "markdown",
      "source": [
        "In Python, tuples are similar to lists in many ways, but they have some important differences that make them useful in certain situations. One of the key differences is that tuples are immutable, which means that you can't modify them after they've been created. 🔒\n",
        "\n",
        "This might seem like a limitation, but it can actually be quite useful in certain scenarios. For example, if you have a set of data that you know won't change, you can store it in a tuple to make sure that it stays the same. This can be particularly important if you're working on a large project with many different pieces of code, because it helps to ensure that your data stays consistent throughout.\n",
        "\n",
        "In brief:\n",
        "\n",
        "In Python tuples are very similar to lists, however, unlike lists they are immutable meaning they can not be changed.\n",
        "\n",
        "You would use tuples to present things that shouldn't be changed, such as days of the week, or dates on a calendar.\n",
        "\n",
        "You'll have an intuition of how to use tuples based on what you've learned about lists. We can treat them very similarly with the major distinction being that tuples are immutable."
      ],
      "metadata": {
        "id": "DrXPf1D9Rndt"
      }
    },
    {
      "cell_type": "markdown",
      "source": [
        "Construction of tuples"
      ],
      "metadata": {
        "id": "aWcETFCmRzPo"
      }
    },
    {
      "cell_type": "markdown",
      "source": [
        "We use () for tuples"
      ],
      "metadata": {
        "id": "bV8w62jOR2TR"
      }
    },
    {
      "cell_type": "code",
      "source": [
        "my_tuple=(1,2,3,4,5)\n",
        "print(my_tuple)"
      ],
      "metadata": {
        "colab": {
          "base_uri": "https://localhost:8080/"
        },
        "id": "pS6rsdJqR7m2",
        "outputId": "09c221ef-6ff9-4a5b-e144-7dae8524888d"
      },
      "execution_count": null,
      "outputs": [
        {
          "output_type": "stream",
          "name": "stdout",
          "text": [
            "(1, 2, 3, 4, 5)\n"
          ]
        }
      ]
    },
    {
      "cell_type": "code",
      "source": [
        "type(my_tuple)"
      ],
      "metadata": {
        "colab": {
          "base_uri": "https://localhost:8080/"
        },
        "id": "PwfGS4rTSFFj",
        "outputId": "a12b7c70-7292-4b2a-8567-d74f8ec51faf"
      },
      "execution_count": null,
      "outputs": [
        {
          "output_type": "execute_result",
          "data": {
            "text/plain": [
              "tuple"
            ]
          },
          "metadata": {},
          "execution_count": 14
        }
      ]
    },
    {
      "cell_type": "markdown",
      "source": [
        "We can also mix the object types or the data types in the tuple like integer, strings,float and boolean"
      ],
      "metadata": {
        "id": "BKVWEFeOSJtE"
      }
    },
    {
      "cell_type": "code",
      "source": [
        "my_tuple=(\"How are you\", 2, 4.5, True)\n",
        "print(my_tuple)"
      ],
      "metadata": {
        "colab": {
          "base_uri": "https://localhost:8080/"
        },
        "id": "5B1hXeXoSXvu",
        "outputId": "a7726cb0-dab5-489b-a521-13b867e537b8"
      },
      "execution_count": null,
      "outputs": [
        {
          "output_type": "stream",
          "name": "stdout",
          "text": [
            "('How are you', 2, 4.5, True)\n"
          ]
        }
      ]
    },
    {
      "cell_type": "markdown",
      "source": [
        "We can create a tuple with a single element"
      ],
      "metadata": {
        "id": "L0treuG4gpgn"
      }
    },
    {
      "cell_type": "code",
      "source": [
        "hello=(1,)\n",
        "print(hello)"
      ],
      "metadata": {
        "colab": {
          "base_uri": "https://localhost:8080/"
        },
        "id": "L4J1PrNhgtbg",
        "outputId": "91a3bc0d-14c3-4c50-a5ae-67ca217a7224"
      },
      "execution_count": null,
      "outputs": [
        {
          "output_type": "stream",
          "name": "stdout",
          "text": [
            "(1,)\n"
          ]
        }
      ]
    },
    {
      "cell_type": "code",
      "source": [
        "type(hello)"
      ],
      "metadata": {
        "colab": {
          "base_uri": "https://localhost:8080/"
        },
        "id": "JuK9h0qlgzeF",
        "outputId": "85617f16-2d4f-478c-8c6b-53b908389f10"
      },
      "execution_count": null,
      "outputs": [
        {
          "output_type": "execute_result",
          "data": {
            "text/plain": [
              "tuple"
            ]
          },
          "metadata": {},
          "execution_count": 17
        }
      ]
    },
    {
      "cell_type": "markdown",
      "source": [
        "We can't change tuple once its provided, that is, the tuple is immutable"
      ],
      "metadata": {
        "id": "nPX9x1ZPg8Ob"
      }
    },
    {
      "cell_type": "markdown",
      "source": [
        "Dictionaries"
      ],
      "metadata": {
        "id": "DUAJ344Gh3Qm"
      }
    },
    {
      "cell_type": "markdown",
      "source": [
        "In Python, dictionaries are an incredibly powerful tool for working with data. They allow you to store key-value pairs, which can be used to represent complex data structures in a simple and efficient way. 🔑📊\n",
        "\n",
        "One of the key benefits of dictionaries is that they make it easy to look up values based on a key. This can be particularly useful when you're working with large sets of data and need to find specific pieces of information quickly. For example, imagine you're working on a project that involves storing information about a large number of customers. You could use a dictionary to store each customer's information as a set of key-value pairs, with the customer ID as the key and their information as the value. Then, when you need to look up information about a particular customer, you can simply use their ID as the key and quickly retrieve their information from the dictionary."
      ],
      "metadata": {
        "id": "AhoyZIikh6nl"
      }
    },
    {
      "cell_type": "markdown",
      "source": [
        "A dictionary object is constructed using curly braces {key1:value1,key2:value2,key3:value3}"
      ],
      "metadata": {
        "id": "b5Dngi1Fh-ro"
      }
    },
    {
      "cell_type": "code",
      "source": [
        "my_dict={'Name':'Sammy','Place':'Kolkata','Passion':'Bike riding',1:['Good boy','data science learner']}\n",
        "my_dict['Name']\n",
        "my_dict['Place']\n",
        "my_dict[1]"
      ],
      "metadata": {
        "colab": {
          "base_uri": "https://localhost:8080/"
        },
        "id": "ZP1RAEMGiXL9",
        "outputId": "bf947842-c748-48ef-a77b-8850cd68b096"
      },
      "execution_count": null,
      "outputs": [
        {
          "output_type": "execute_result",
          "data": {
            "text/plain": [
              "['Good boy', 'data science learner']"
            ]
          },
          "metadata": {},
          "execution_count": 23
        }
      ]
    },
    {
      "cell_type": "code",
      "source": [
        "type(my_dict)"
      ],
      "metadata": {
        "colab": {
          "base_uri": "https://localhost:8080/"
        },
        "id": "BHQU-MT2jMGN",
        "outputId": "a8ce8064-76a8-4d78-d984-2b1863b0a40d"
      },
      "execution_count": null,
      "outputs": [
        {
          "output_type": "execute_result",
          "data": {
            "text/plain": [
              "dict"
            ]
          },
          "metadata": {},
          "execution_count": 24
        }
      ]
    },
    {
      "cell_type": "markdown",
      "source": [
        "Immutability in dictionaries"
      ],
      "metadata": {
        "id": "5Dcr8NeWjgIt"
      }
    },
    {
      "cell_type": "markdown",
      "source": [
        "In Python, dictionaries are mutable, which means that you can modify their contents after they've been created. This makes them a very flexible and powerful data structure for working with complex data. 🔧\n",
        "\n",
        "When you modify a dictionary, you can add, remove, or update key-value pairs as needed. For example, you might add a new key-value pair to represent a new piece of data, or update an existing key-value pair to reflect a change in the data. You can also remove key-value pairs that are no longer needed."
      ],
      "metadata": {
        "id": "JHQ65cbWjkWM"
      }
    },
    {
      "cell_type": "code",
      "source": [
        "customer={\n",
        "    'name':'Sammy',\n",
        "    'age':56,\n",
        "    'email':'sammy@example.com'\n",
        "}\n",
        "#modifying the email\n",
        "customer['email']='sammy123@example.com'\n",
        "#modify the age\n",
        "customer['age']='45'\n",
        "print(customer)\n"
      ],
      "metadata": {
        "colab": {
          "base_uri": "https://localhost:8080/"
        },
        "id": "Q7uesYbTjxzp",
        "outputId": "d7be7db8-feb5-445e-decd-218df5c8fdb2"
      },
      "execution_count": null,
      "outputs": [
        {
          "output_type": "stream",
          "name": "stdout",
          "text": [
            "{'name': 'Sammy', 'age': '45', 'email': 'sammy123@example.com'}\n"
          ]
        }
      ]
    },
    {
      "cell_type": "markdown",
      "source": [
        "Some basic dictionary methods"
      ],
      "metadata": {
        "id": "bjYrsLmnkvMY"
      }
    },
    {
      "cell_type": "markdown",
      "source": [
        "keys() method returns the list of keys in the dictionary object"
      ],
      "metadata": {
        "id": "QuWgrZWWk0uV"
      }
    },
    {
      "cell_type": "code",
      "source": [
        "my_dict.keys()"
      ],
      "metadata": {
        "colab": {
          "base_uri": "https://localhost:8080/"
        },
        "id": "oq0dY0wWlIpw",
        "outputId": "d9820e44-14b0-4b2f-cc59-abb4f841a747"
      },
      "execution_count": null,
      "outputs": [
        {
          "output_type": "execute_result",
          "data": {
            "text/plain": [
              "dict_keys(['Name', 'Place', 'Passion', 1])"
            ]
          },
          "metadata": {},
          "execution_count": 26
        }
      ]
    },
    {
      "cell_type": "code",
      "source": [
        "list(my_dict.keys())"
      ],
      "metadata": {
        "colab": {
          "base_uri": "https://localhost:8080/"
        },
        "id": "DKydz_eKlQGD",
        "outputId": "a0be616b-3586-485f-d236-e77e3f482b0f"
      },
      "execution_count": null,
      "outputs": [
        {
          "output_type": "execute_result",
          "data": {
            "text/plain": [
              "['Name', 'Place', 'Passion', 1]"
            ]
          },
          "metadata": {},
          "execution_count": 27
        }
      ]
    },
    {
      "cell_type": "markdown",
      "source": [
        "values() method returns the value of the keys in the dictionary"
      ],
      "metadata": {
        "id": "YrgQEvs2lant"
      }
    },
    {
      "cell_type": "code",
      "source": [
        "my_dict.values()"
      ],
      "metadata": {
        "colab": {
          "base_uri": "https://localhost:8080/"
        },
        "id": "EBJ7X3GqlgO3",
        "outputId": "f0ae3496-2acd-4b76-94e6-1f4a0e4e8b7c"
      },
      "execution_count": null,
      "outputs": [
        {
          "output_type": "execute_result",
          "data": {
            "text/plain": [
              "dict_values(['Sammy', 'Kolkata', 'Bike riding', ['Good boy', 'data science learner']])"
            ]
          },
          "metadata": {},
          "execution_count": 28
        }
      ]
    },
    {
      "cell_type": "code",
      "source": [
        "list(my_dict.values())"
      ],
      "metadata": {
        "id": "XbRteE-6lxgu",
        "outputId": "65b45d07-c400-4317-e01c-edeaa2d1e6d0",
        "colab": {
          "base_uri": "https://localhost:8080/"
        }
      },
      "execution_count": null,
      "outputs": [
        {
          "output_type": "execute_result",
          "data": {
            "text/plain": [
              "['Sammy', 'Kolkata', 'Bike riding', ['Good boy', 'data science learner']]"
            ]
          },
          "metadata": {},
          "execution_count": 29
        }
      ]
    },
    {
      "cell_type": "markdown",
      "source": [
        "Introduction to sets"
      ],
      "metadata": {
        "id": "uU3MDakanuN9"
      }
    },
    {
      "cell_type": "markdown",
      "source": [
        "In Python, sets are a powerful tool for working with collections of unique elements. They allow you to perform operations like union, intersection, and difference on sets of data, making it easy to compare and manipulate large data sets. 🛠️🔍\n",
        "\n",
        "One of the key benefits of sets is that they ensure that each element is unique, so you don't have to worry about duplicates. This can be particularly useful when you're working with data that has a lot of overlap or redundancy. For example, imagine you're analyzing a large dataset of customer orders, and you want to identify all of the unique products that have been ordered. By storing the product names in a set, you can ensure that each product is only counted once, even if it appears in multiple orders. 🛍️\n",
        "\n",
        "Another scenario where sets can be useful is when you're working with text data. Sets allow you to easily identify the unique words or characters in a piece of text, which can be helpful for tasks like sentiment analysis or text classification. By converting the text to a set of unique elements, you can focus on the most important and distinctive parts of the data. 📚\n",
        "\n",
        "To summarize stuffs:\n",
        "\n",
        "Sets are an unordered collection of unique elements. We can construct them by using the set() function.\n",
        "\n",
        "Sets cannot have duplicates.\n",
        "\n",
        "Sets are mutable just like lists.\n",
        "\n",
        "You can create a non-empty set with curly braces by specifying elements separated by a comma."
      ],
      "metadata": {
        "id": "Wb7IOta7nyvl"
      }
    },
    {
      "cell_type": "code",
      "source": [
        "#creation of an empty set.\n",
        "my_emptyset=set()"
      ],
      "metadata": {
        "id": "taPPjOC9qffB"
      },
      "execution_count": null,
      "outputs": []
    },
    {
      "cell_type": "code",
      "source": [
        "type(my_emptyset)"
      ],
      "metadata": {
        "colab": {
          "base_uri": "https://localhost:8080/"
        },
        "id": "0cENWtP1q6kN",
        "outputId": "b155d6f3-5b36-4f9a-8d76-6ddf012a15b0"
      },
      "execution_count": null,
      "outputs": [
        {
          "output_type": "execute_result",
          "data": {
            "text/plain": [
              "set"
            ]
          },
          "metadata": {},
          "execution_count": 2
        }
      ]
    },
    {
      "cell_type": "code",
      "source": [
        "#creating a non-empty set\n",
        "non_emptyset={1,4,5,'abc'}\n",
        "print(non_emptyset)"
      ],
      "metadata": {
        "colab": {
          "base_uri": "https://localhost:8080/"
        },
        "id": "x4I3jJF6q_jS",
        "outputId": "4c45e16e-2ef1-482b-9520-4005d88e9b38"
      },
      "execution_count": null,
      "outputs": [
        {
          "output_type": "stream",
          "name": "stdout",
          "text": [
            "{1, 4, 'abc', 5}\n"
          ]
        }
      ]
    },
    {
      "cell_type": "markdown",
      "source": [
        "There are few things you need to keep in mind while working with sets\n",
        "\n",
        "An empty set cannot be represented as {}, which is reserved for an empty dictionary which you learnt about a while back."
      ],
      "metadata": {
        "id": "SwpukAuhrPPf"
      }
    },
    {
      "cell_type": "code",
      "source": [
        "size={}\n",
        "type(size)"
      ],
      "metadata": {
        "colab": {
          "base_uri": "https://localhost:8080/"
        },
        "id": "vbPA0zbxrQv3",
        "outputId": "ae6f14a1-3622-4f28-c148-dc8e5c3ac3cc"
      },
      "execution_count": null,
      "outputs": [
        {
          "output_type": "execute_result",
          "data": {
            "text/plain": [
              "dict"
            ]
          },
          "metadata": {},
          "execution_count": 4
        }
      ]
    },
    {
      "cell_type": "markdown",
      "source": [
        "We can cast a list with multiple repeat elements to a set to get the unique elements."
      ],
      "metadata": {
        "id": "rMQ7aqUFrc68"
      }
    },
    {
      "cell_type": "markdown",
      "source": [
        "We cannot create a set whose any of the elements is mutable"
      ],
      "metadata": {
        "id": "Djtv_mg5smFw"
      }
    },
    {
      "cell_type": "markdown",
      "source": [
        "We can create sets with immutable items such as tuple."
      ],
      "metadata": {
        "id": "BjeagAilsydX"
      }
    },
    {
      "cell_type": "code",
      "source": [
        "my_set={1,2,(2,3)}"
      ],
      "metadata": {
        "id": "rGGpz__bs3Pr"
      },
      "execution_count": null,
      "outputs": []
    },
    {
      "cell_type": "code",
      "source": [
        "my_set"
      ],
      "metadata": {
        "colab": {
          "base_uri": "https://localhost:8080/"
        },
        "id": "Q-vg5DaVs9aB",
        "outputId": "e53f4228-b77e-47a9-baa8-448269466001"
      },
      "execution_count": null,
      "outputs": [
        {
          "output_type": "execute_result",
          "data": {
            "text/plain": [
              "{(2, 3), 1, 2}"
            ]
          },
          "metadata": {},
          "execution_count": 12
        }
      ]
    },
    {
      "cell_type": "markdown",
      "source": [
        "Additional information"
      ],
      "metadata": {
        "id": "MDU0SAzcyylD"
      }
    },
    {
      "cell_type": "markdown",
      "source": [
        "find() method returns the index of the first occurrence of a string present in a given string. Similar to the count() method, the find() method takes a string as an argument"
      ],
      "metadata": {
        "id": "zi5-7ifDy4Th"
      }
    },
    {
      "cell_type": "code",
      "source": [
        "a={1,3,5,7,9}\n",
        "b={1,2,5,7,10}\n",
        "Intersection= a.intersection(b)\n",
        "print(Intersection)"
      ],
      "metadata": {
        "colab": {
          "base_uri": "https://localhost:8080/"
        },
        "id": "BhCfiVKf1Q1W",
        "outputId": "7feca2a0-2ef6-478d-9cea-9428cac89964"
      },
      "execution_count": null,
      "outputs": [
        {
          "output_type": "error",
          "ename": "TypeError",
          "evalue": "ignored",
          "traceback": [
            "\u001b[0;31m---------------------------------------------------------------------------\u001b[0m",
            "\u001b[0;31mTypeError\u001b[0m                                 Traceback (most recent call last)",
            "\u001b[0;32m<ipython-input-16-c83e9b1bbb37>\u001b[0m in \u001b[0;36m<cell line: 4>\u001b[0;34m()\u001b[0m\n\u001b[1;32m      2\u001b[0m \u001b[0mb\u001b[0m\u001b[0;34m=\u001b[0m\u001b[0;34m{\u001b[0m\u001b[0;36m1\u001b[0m\u001b[0;34m,\u001b[0m\u001b[0;36m2\u001b[0m\u001b[0;34m,\u001b[0m\u001b[0;36m5\u001b[0m\u001b[0;34m,\u001b[0m\u001b[0;36m7\u001b[0m\u001b[0;34m,\u001b[0m\u001b[0;36m10\u001b[0m\u001b[0;34m}\u001b[0m\u001b[0;34m\u001b[0m\u001b[0;34m\u001b[0m\u001b[0m\n\u001b[1;32m      3\u001b[0m \u001b[0mIntersection\u001b[0m\u001b[0;34m=\u001b[0m \u001b[0ma\u001b[0m\u001b[0;34m.\u001b[0m\u001b[0mintersection\u001b[0m\u001b[0;34m(\u001b[0m\u001b[0mb\u001b[0m\u001b[0;34m)\u001b[0m\u001b[0;34m\u001b[0m\u001b[0;34m\u001b[0m\u001b[0m\n\u001b[0;32m----> 4\u001b[0;31m \u001b[0mprint\u001b[0m\u001b[0;34m(\u001b[0m\u001b[0mIntersection\u001b[0m\u001b[0;34m)\u001b[0m\u001b[0;34m\u001b[0m\u001b[0;34m\u001b[0m\u001b[0m\n\u001b[0m",
            "\u001b[0;31mTypeError\u001b[0m: 'set' object is not callable"
          ]
        }
      ]
    },
    {
      "cell_type": "code",
      "source": [
        "A={'book','paper','draw','Dance'}\n",
        "B={'hike','tour','dance','work'}\n",
        "Intersection=A.intersection(B)\n",
        "print(Intersection)"
      ],
      "metadata": {
        "colab": {
          "base_uri": "https://localhost:8080/"
        },
        "id": "mi_Y6_usf4PP",
        "outputId": "a7289869-e4f6-407f-e0f7-492d6522fe6d"
      },
      "execution_count": null,
      "outputs": [
        {
          "output_type": "stream",
          "name": "stdout",
          "text": [
            "set()\n"
          ]
        }
      ]
    },
    {
      "cell_type": "code",
      "source": [
        "s = input()\n",
        "lower_case=s.lower()\n",
        "lower_case==lower_case[::-1]\n",
        "print(lower_case==lower_case[::-1])"
      ],
      "metadata": {
        "colab": {
          "base_uri": "https://localhost:8080/"
        },
        "id": "moGQ894KhyJ9",
        "outputId": "9651d7ac-6bd4-4327-a180-ee1c4bedb244"
      },
      "execution_count": null,
      "outputs": [
        {
          "output_type": "stream",
          "name": "stdout",
          "text": [
            "Dad\n",
            "True\n"
          ]
        }
      ]
    },
    {
      "cell_type": "code",
      "source": [
        "def product_numbers(n): #f(4)=4*3*2*1, f(3)*4, 4*3*f(2), 4*3*2*f(1)\n",
        "    if n==1:\n",
        "      return 1\n",
        "\n",
        "    return n*product_numbers(n-1)\n"
      ],
      "metadata": {
        "id": "y6q0eMuFjK_W"
      },
      "execution_count": null,
      "outputs": []
    },
    {
      "cell_type": "code",
      "source": [
        "def power(a,b):\n",
        "  if a==0:\n",
        "    return 0\n",
        "  elif b==0:\n",
        "    return 1\n",
        "  else:\n",
        "    return a**b\n",
        "a=9\n",
        "b=9\n",
        "result=power(a,b)\n",
        "print(result)"
      ],
      "metadata": {
        "colab": {
          "base_uri": "https://localhost:8080/"
        },
        "id": "UsH6V2sQma7-",
        "outputId": "7799f996-b3c4-4948-c69b-598552d190da"
      },
      "execution_count": null,
      "outputs": [
        {
          "output_type": "stream",
          "name": "stdout",
          "text": [
            "387420489\n"
          ]
        }
      ]
    },
    {
      "cell_type": "code",
      "source": [
        "# Here we have a code for adding a number until we have a single digit number\n",
        "r=90887\n",
        "l=list(str(r)) #here we have to convert the given integer to a string and then to list. Because we can't add a integer's individual number.\n",
        "while len(l)!=1:\n",
        "  s=0\n",
        "  for i in l:\n",
        "    s=s+int(i)\n",
        "    r=s\n",
        "  print(r)\n",
        "  l=list(str(r))\n"
      ],
      "metadata": {
        "colab": {
          "base_uri": "https://localhost:8080/"
        },
        "id": "X1xM3HNZceoZ",
        "outputId": "fe6b704f-7f6b-4ac9-f97c-fde2e7586bb7"
      },
      "execution_count": null,
      "outputs": [
        {
          "output_type": "stream",
          "name": "stdout",
          "text": [
            "32\n",
            "5\n"
          ]
        }
      ]
    },
    {
      "cell_type": "code",
      "source": [
        "# code to ensure global and local variable\n",
        "Sam=10\n",
        "def global_local():\n",
        "  \"\"\"\n",
        "  Docstring\n",
        "  \"\"\"\n",
        "  #Accessing the global variable\n",
        "  global Sam\n",
        "  #Providing the function of the code\n",
        "  Sam += 10 #we can't use return statement for global variable\n",
        "def local_global():\n",
        "  \"\"\"\n",
        "  Docstring\n",
        "  \"\"\"\n",
        "  #assigning the value\n",
        "  Sammy=17\n",
        "  Sammy -= 7\n",
        "  print(\"Local variable is\",Sammy)\n",
        "global_local()\n",
        "print(\"Global variable is\",Sam)\n"
      ],
      "metadata": {
        "colab": {
          "base_uri": "https://localhost:8080/"
        },
        "id": "-d6lJyfwvjj7",
        "outputId": "78b972ca-9b95-42e0-e754-181852ba97ee"
      },
      "execution_count": null,
      "outputs": [
        {
          "output_type": "stream",
          "name": "stdout",
          "text": [
            "Global variable is 20\n"
          ]
        }
      ]
    },
    {
      "cell_type": "code",
      "source": [
        "# write a program to find the calories burnt in a minute\n",
        "def calculate_calories_burnt(duration, activity):\n",
        "  calories=0\n",
        "  while duration>0:\n",
        "    if activity.lower()==\"running\":\n",
        "      calories += 10\n",
        "    elif activity.lower()==\"swimming\":\n",
        "      calories += 8\n",
        "    elif activity.lower()==\"cycling\":\n",
        "      calories += 9\n",
        "  return f\"You have burnt{calories} in {duration}\"\n",
        "calculate_calories_burnt(duration=20,activity=\"swimming\")\n"
      ],
      "metadata": {
        "id": "F5iXC5cXN7oo"
      },
      "execution_count": null,
      "outputs": []
    }
  ]
}